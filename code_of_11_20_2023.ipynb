{
  "nbformat": 4,
  "nbformat_minor": 0,
  "metadata": {
    "colab": {
      "provenance": [],
      "authorship_tag": "ABX9TyMXLrbXqliaVgi0uI7unhWl",
      "include_colab_link": true
    },
    "kernelspec": {
      "name": "python3",
      "display_name": "Python 3"
    },
    "language_info": {
      "name": "python"
    }
  },
  "cells": [
    {
      "cell_type": "markdown",
      "metadata": {
        "id": "view-in-github",
        "colab_type": "text"
      },
      "source": [
        "<a href=\"https://colab.research.google.com/github/Naziyasompalem/AI-Ml_projects/blob/main/code_of_11_20_2023.ipynb\" target=\"_parent\"><img src=\"https://colab.research.google.com/assets/colab-badge.svg\" alt=\"Open In Colab\"/></a>"
      ]
    },
    {
      "cell_type": "code",
      "execution_count": null,
      "metadata": {
        "colab": {
          "base_uri": "https://localhost:8080/"
        },
        "id": "Yxir1vCv8vOM",
        "outputId": "5644de28-2355-449a-b443-968f81e09b7e"
      },
      "outputs": [
        {
          "output_type": "stream",
          "name": "stdout",
          "text": [
            "True\n"
          ]
        }
      ],
      "source": [
        "def diagnol(n,m,arr,t):\n",
        "    for i in range(n-1):\n",
        "        for j in range(m-1):\n",
        "            if arr[i][j]!=arr[i+1][j+1]:\n",
        "                t= False\n",
        "                break\n",
        "    return t\n",
        "arr=[[6,7,8],[4,6,7],[1,4,6]]\n",
        "t=True\n",
        "sum=diagnol(3,3,arr,t)\n",
        "print(sum)\n"
      ]
    },
    {
      "cell_type": "code",
      "source": [],
      "metadata": {
        "id": "pagT-4eoSvNq"
      },
      "execution_count": null,
      "outputs": []
    },
    {
      "cell_type": "code",
      "source": [
        "def divide(arr):\n",
        "  n=len(arr)\n",
        "  ls=0\n",
        "  rs=0\n",
        "  m=n//2\n",
        "  #pro=1\n",
        "  for i in range(0,m):\n",
        "    ls=ls+arr[i]\n",
        "  for i in range(m,n):\n",
        "    rs=rs+arr[i]\n",
        "  pro=rs*ls\n",
        "  return pro\n",
        "arr=[1,2,3,4]\n",
        "divide(arr)\n",
        "\n",
        "\n",
        "\n",
        "\n"
      ],
      "metadata": {
        "colab": {
          "base_uri": "https://localhost:8080/"
        },
        "id": "6GvWH0GT_mxt",
        "outputId": "982b3569-464a-47d0-df78-a45cf9a8ffad"
      },
      "execution_count": null,
      "outputs": [
        {
          "output_type": "execute_result",
          "data": {
            "text/plain": [
              "21"
            ]
          },
          "metadata": {},
          "execution_count": 19
        }
      ]
    },
    {
      "cell_type": "code",
      "source": [
        "def missing(n,arr):\n",
        "  sum=n*(n+1)//2\n",
        "  sum1=0\n",
        "  mis=''\n",
        "  for i in range(len(arr)):\n",
        "    sum1=sum1+arr[i]\n",
        "  mis=sum-sum1\n",
        "  return mis\n",
        "arr=[1,2,3,5]\n",
        "missing(5,arr)"
      ],
      "metadata": {
        "colab": {
          "base_uri": "https://localhost:8080/"
        },
        "id": "7GXsTCliCcpP",
        "outputId": "107d0c2e-dd88-4796-a462-dd66a371edc3"
      },
      "execution_count": null,
      "outputs": [
        {
          "output_type": "execute_result",
          "data": {
            "text/plain": [
              "4"
            ]
          },
          "metadata": {},
          "execution_count": 31
        }
      ]
    },
    {
      "cell_type": "code",
      "source": [
        "n=5\n",
        "sum=n*(n+1)//2\n",
        "b=sum//2\n",
        "print(sum)"
      ],
      "metadata": {
        "colab": {
          "base_uri": "https://localhost:8080/"
        },
        "id": "Q94mg2lwECji",
        "outputId": "4ee765b3-8f7c-4cd8-f17d-0243c05d9f84"
      },
      "execution_count": null,
      "outputs": [
        {
          "output_type": "stream",
          "name": "stdout",
          "text": [
            "15\n"
          ]
        }
      ]
    },
    {
      "cell_type": "code",
      "source": [
        "def duplicates(arr):\n",
        "  arr.sort()\n",
        "  lis=[]\n",
        "  i=1\n",
        "  for i in range(len(arr)):\n",
        "    if arr[i]==arr[i-1]:\n",
        "      if arr[i] not in lis:\n",
        "        lis.append(arr[i])\n",
        "  return lis\n",
        "arr=[2,5,3,2,4,5,2,2]#to find the duplicates\n",
        "duplicates(arr)\n"
      ],
      "metadata": {
        "colab": {
          "base_uri": "https://localhost:8080/"
        },
        "id": "AmDsE34kE-HS",
        "outputId": "457cef64-777e-420e-81e1-047a6be0423b"
      },
      "execution_count": null,
      "outputs": [
        {
          "output_type": "execute_result",
          "data": {
            "text/plain": [
              "[2, 5]"
            ]
          },
          "metadata": {},
          "execution_count": 37
        }
      ]
    },
    {
      "cell_type": "code",
      "source": [
        "#kadane's Algorithm\n",
        "#finding continuous sub array and its max sum\n",
        "#containing atleseat one number in the list\n",
        "def subarray(arr):\n",
        "  max=arr[0]\n",
        "  sum=0\n",
        "  for i in range(len(arr)):\n",
        "    sum=sum+arr[i]\n",
        "    max=max if max>sum else sum\n",
        "    if sum<0:\n",
        "      sum=0\n",
        "  return max\n",
        "arr=[-5,-1,-3,-4,2,3,4]\n",
        "subarray(arr)\n",
        "\n",
        "\n",
        "\n",
        "\n",
        "\n"
      ],
      "metadata": {
        "colab": {
          "base_uri": "https://localhost:8080/"
        },
        "id": "behWL9qjHXH9",
        "outputId": "19ee7686-66a5-413f-9e26-68c96e5a25ae"
      },
      "execution_count": null,
      "outputs": [
        {
          "output_type": "execute_result",
          "data": {
            "text/plain": [
              "9"
            ]
          },
          "metadata": {},
          "execution_count": 41
        }
      ]
    },
    {
      "cell_type": "code",
      "source": [
        "#Leaders in an array\n",
        "#an elemnet is a leader if it is greater than or equal to all the elemnets to its right side\n",
        "def leader(arr,n,t):\n",
        "  l=[]\n",
        "  for i in range(n):\n",
        "    for j in range(i+1,n):\n",
        "      if arr[i]<arr[j]:\n",
        "        leader=False\n",
        "        break\n",
        "      if leader==True:\n",
        "        l.append(arr[i])\n",
        "  return l\n",
        "\n",
        "arr=[16,17,4,3,5,2]\n",
        "t=True\n",
        "leader(arr,6,t)"
      ],
      "metadata": {
        "colab": {
          "base_uri": "https://localhost:8080/"
        },
        "id": "scXmlt_AM4sR",
        "outputId": "c7e8e897-f64e-48c7-da77-aa1cc8f05113"
      },
      "execution_count": null,
      "outputs": [
        {
          "output_type": "execute_result",
          "data": {
            "text/plain": [
              "[]"
            ]
          },
          "metadata": {},
          "execution_count": 60
        }
      ]
    },
    {
      "cell_type": "code",
      "source": [
        "def small(arr,k):\n",
        "  arr.sort()\n",
        "  return arr[k-1]\n",
        "arr=[3,4,6,2,6,7]\n",
        "small(arr,3)\n"
      ],
      "metadata": {
        "colab": {
          "base_uri": "https://localhost:8080/"
        },
        "id": "b9FKgvVQQ6uZ",
        "outputId": "ae198345-88c0-4bad-d2e7-e0de63ee0afa"
      },
      "execution_count": null,
      "outputs": [
        {
          "output_type": "execute_result",
          "data": {
            "text/plain": [
              "4"
            ]
          },
          "metadata": {},
          "execution_count": 58
        }
      ]
    },
    {
      "cell_type": "code",
      "source": [],
      "metadata": {
        "id": "Qqq2Pid8SCP9"
      },
      "execution_count": null,
      "outputs": []
    }
  ]
}